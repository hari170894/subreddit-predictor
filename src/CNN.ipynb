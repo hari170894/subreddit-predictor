{
 "cells": [
  {
   "cell_type": "code",
   "execution_count": 1,
   "metadata": {
    "collapsed": false
   },
   "outputs": [],
   "source": [
    "import tensorflow as tf"
   ]
  },
  {
   "cell_type": "code",
   "execution_count": 2,
   "metadata": {
    "collapsed": true
   },
   "outputs": [],
   "source": [
    "import pandas as pd\n",
    "import nltk\n",
    "from gensim.models import Word2Vec\n",
    "import numpy as np"
   ]
  },
  {
   "cell_type": "code",
   "execution_count": 3,
   "metadata": {
    "collapsed": true
   },
   "outputs": [],
   "source": [
    "\n",
    "train_df = pd.read_csv('../res/data_all_train.csv', header=0)\n",
    "test_df = pd.read_csv('../res/data_all_test.csv', header=0)\n",
    "validation_df = pd.read_csv('../res/data_all_validate.csv', header=0)"
   ]
  },
  {
   "cell_type": "code",
   "execution_count": 4,
   "metadata": {
    "collapsed": false
   },
   "outputs": [
    {
     "name": "stdout",
     "output_type": "stream",
     "text": [
      "8189\n"
     ]
    },
    {
     "data": {
      "text/plain": [
       "4468460"
      ]
     },
     "execution_count": 4,
     "metadata": {},
     "output_type": "execute_result"
    }
   ],
   "source": [
    "documents = []\n",
    "labels=[]\n",
    "for label in train_df.subreddit:\n",
    "    labels.append(label)\n",
    "for doc in train_df.text:\n",
    "    unicode_string = nltk.word_tokenize(doc.decode('utf8'))\n",
    "    documents.append(unicode_string)\n",
    "    \n",
    "print(len(documents))\n",
    "\n",
    "model = Word2Vec(documents, size=80)\n",
    "\n",
    "model.train(documents, total_examples=len(documents), epochs=20)\n"
   ]
  },
  {
   "cell_type": "code",
   "execution_count": 5,
   "metadata": {
    "collapsed": false
   },
   "outputs": [],
   "source": [
    "twod_doc_array=[]\n",
    "for doc in documents:\n",
    "    word_array=[]\n",
    "    i=0\n",
    "    while(i<len(doc) ):\n",
    "        if doc[i] in model.wv.vocab:\n",
    "            word_array.append(list(model[doc[i]]))\n",
    "        i+=1\n",
    "    i=0\n",
    "    while (i<40):\n",
    "        word_array.append(np.zeros(80))\n",
    "        i+=1\n",
    "    \n",
    "    twod_doc_array.append(word_array[:40])"
   ]
  },
  {
   "cell_type": "code",
   "execution_count": 6,
   "metadata": {
    "collapsed": false
   },
   "outputs": [
    {
     "name": "stdout",
     "output_type": "stream",
     "text": [
      "(8189, 40, 80)\n",
      "(8189, 40, 80, 1)\n"
     ]
    }
   ],
   "source": [
    "twod_doc_array=np.array( twod_doc_array)\n",
    "\n",
    "print twod_doc_array.shape\n",
    "x=np.reshape(twod_doc_array,(twod_doc_array.shape[0],twod_doc_array.shape[1],twod_doc_array.shape[2],1))\n",
    "print x.shape"
   ]
  },
  {
   "cell_type": "code",
   "execution_count": 7,
   "metadata": {
    "collapsed": false
   },
   "outputs": [],
   "source": [
    "def cnn_model_fn(features, labels, mode):\n",
    "    \n",
    "    # Input Layer\n",
    "\n",
    "    input_layer = tf.reshape(features['x'], [-1, 40, 80, 1])\n",
    "    input_layer =tf.cast(input_layer,dtype=tf.float32)\n",
    "\n",
    "    conv1 = tf.layers.conv2d(\n",
    "      inputs=input_layer,\n",
    "      filters=32,\n",
    "      kernel_size=[5, 5],\n",
    "      padding=\"same\",\n",
    "      activation=tf.nn.relu)\n",
    "\n",
    "    # Pooling Layer #1\n",
    "    pool1 = tf.layers.max_pooling2d(inputs=conv1, pool_size=[2, 2], strides=2)\n",
    "\n",
    "    # Convolutional Layer #2 and Pooling Layer #2\n",
    "    conv2 = tf.layers.conv2d(\n",
    "      inputs=pool1,\n",
    "      filters=64,\n",
    "      kernel_size=[5, 5],\n",
    "      padding=\"same\",\n",
    "      activation=tf.nn.relu)\n",
    "    pool2 = tf.layers.max_pooling2d(inputs=conv2, pool_size=[2, 2], strides=2)\n",
    "\n",
    "    # Dense Layer\n",
    "    pool2_flat = tf.reshape(pool2, [-1, 10 * 20 * 64])\n",
    "    dense = tf.layers.dense(inputs=pool2_flat, units=1024, activation=tf.nn.relu)\n",
    "    dropout = tf.layers.dropout(\n",
    "    inputs=dense, rate=0.4, training=mode == tf.estimator.ModeKeys.TRAIN)\n",
    "    # Logits Layer\n",
    "    logits = tf.layers.dense(inputs=dropout, units=10)\n",
    "\n",
    "    predictions = {\n",
    "      # Generate predictions (for PREDICT and EVAL mode)\n",
    "      \"classes\": tf.argmax(input=logits, axis=1),\n",
    "      # Add `softmax_tensor` to the graph. It is used for PREDICT and by the\n",
    "      # `logging_hook`.\n",
    "      \"probabilities\": tf.nn.softmax(logits, name=\"softmax_tensor\")\n",
    "    }\n",
    "\n",
    "    if mode == tf.estimator.ModeKeys.PREDICT:\n",
    "        return tf.estimator.EstimatorSpec(mode=mode, predictions=predictions)\n",
    "\n",
    "    # Calculate Loss (for both TRAIN and EVAL modes)\n",
    "    onehot_labels = tf.one_hot(indices=tf.cast(labels, tf.int32), depth=10)\n",
    "    loss = tf.losses.softmax_cross_entropy(\n",
    "      onehot_labels=onehot_labels, logits=logits)\n",
    "\n",
    "    # Configure the Training Op (for TRAIN mode)\n",
    "    if mode == tf.estimator.ModeKeys.TRAIN:\n",
    "        optimizer = tf.train.AdamOptimizer(1e-3)\n",
    "        train_op = optimizer.minimize(\n",
    "            loss=loss,\n",
    "            global_step=tf.train.get_global_step())\n",
    "        return tf.estimator.EstimatorSpec(mode=mode, loss=loss, train_op=train_op)\n",
    "\n",
    "    # Add evaluation metrics (for EVAL mode)\n",
    "    eval_metric_ops = {\n",
    "      \"accuracy\": tf.metrics.accuracy(\n",
    "          labels=labels, predictions=predictions[\"classes\"])}\n",
    "    return tf.estimator.EstimatorSpec(\n",
    "      mode=mode, loss=loss, eval_metric_ops=eval_metric_ops)"
   ]
  },
  {
   "cell_type": "code",
   "execution_count": 8,
   "metadata": {
    "collapsed": false
   },
   "outputs": [],
   "source": [
    "labellist=list(set(labels))"
   ]
  },
  {
   "cell_type": "code",
   "execution_count": 9,
   "metadata": {
    "collapsed": false
   },
   "outputs": [
    {
     "name": "stdout",
     "output_type": "stream",
     "text": [
      "['gameofthrones', 'dota2', 'conservative', 'leagueoflegends', 'askscience', 'libertarian', 'comicbooks', 'explainlikeimfive', 'thewalkingdead', 'anime']\n"
     ]
    }
   ],
   "source": [
    "print labellist"
   ]
  },
  {
   "cell_type": "code",
   "execution_count": 10,
   "metadata": {
    "collapsed": false
   },
   "outputs": [
    {
     "name": "stdout",
     "output_type": "stream",
     "text": [
      "8189\n"
     ]
    }
   ],
   "source": [
    "y=[]\n",
    "for i in labels:\n",
    "    y.append(labellist.index(i))\n",
    "print len(y)\n",
    "y=np.array(y)\n",
    "x=np.array(x)"
   ]
  },
  {
   "cell_type": "code",
   "execution_count": 11,
   "metadata": {
    "collapsed": false
   },
   "outputs": [],
   "source": [
    "import time"
   ]
  },
  {
   "cell_type": "code",
   "execution_count": 12,
   "metadata": {
    "collapsed": false
   },
   "outputs": [],
   "source": [
    "start = time.time()"
   ]
  },
  {
   "cell_type": "code",
   "execution_count": 13,
   "metadata": {
    "collapsed": false,
    "scrolled": false
   },
   "outputs": [
    {
     "name": "stdout",
     "output_type": "stream",
     "text": [
      "INFO:tensorflow:Using default config.\n",
      "INFO:tensorflow:Using config: {}\n",
      "INFO:tensorflow:Create CheckpointSaverHook.\n",
      "INFO:tensorflow:Saving checkpoints for 1 into /tmp/dummy_model2/model.ckpt.\n",
      "INFO:tensorflow:loss = 2.23601, step = 1\n",
      "INFO:tensorflow:global_step/sec: 0.68197\n",
      "INFO:tensorflow:loss = 2.34049, step = 101 (146.636 sec)\n",
      "INFO:tensorflow:global_step/sec: 0.589587\n",
      "INFO:tensorflow:loss = 2.20898, step = 201 (169.611 sec)\n",
      "INFO:tensorflow:global_step/sec: 0.720077\n",
      "INFO:tensorflow:loss = 2.15921, step = 301 (138.874 sec)\n",
      "INFO:tensorflow:Saving checkpoints for 375 into /tmp/dummy_model2/model.ckpt.\n",
      "INFO:tensorflow:global_step/sec: 0.454332\n",
      "INFO:tensorflow:loss = 1.74466, step = 401 (220.105 sec)\n",
      "INFO:tensorflow:global_step/sec: 0.322223\n",
      "INFO:tensorflow:loss = 2.22397, step = 501 (310.344 sec)\n",
      "INFO:tensorflow:Saving checkpoints for 601 into /tmp/dummy_model2/model.ckpt.\n",
      "INFO:tensorflow:global_step/sec: 0.46035\n",
      "INFO:tensorflow:loss = 2.45159, step = 601 (217.224 sec)\n",
      "INFO:tensorflow:global_step/sec: 0.594703\n",
      "INFO:tensorflow:loss = 2.2701, step = 701 (168.151 sec)\n",
      "INFO:tensorflow:global_step/sec: 0.597192\n",
      "INFO:tensorflow:loss = 1.83111, step = 801 (167.450 sec)\n",
      "INFO:tensorflow:global_step/sec: 0.5748\n",
      "INFO:tensorflow:loss = 1.55481, step = 901 (173.977 sec)\n",
      "INFO:tensorflow:Saving checkpoints for 953 into /tmp/dummy_model2/model.ckpt.\n",
      "INFO:tensorflow:global_step/sec: 0.591909\n",
      "INFO:tensorflow:loss = 2.70175, step = 1001 (168.942 sec)\n",
      "INFO:tensorflow:global_step/sec: 0.577579\n",
      "INFO:tensorflow:loss = 1.99283, step = 1101 (173.137 sec)\n",
      "INFO:tensorflow:global_step/sec: 0.635895\n",
      "INFO:tensorflow:loss = 1.85898, step = 1201 (157.258 sec)\n",
      "INFO:tensorflow:global_step/sec: 0.619697\n",
      "INFO:tensorflow:loss = 2.2857, step = 1301 (161.369 sec)\n",
      "INFO:tensorflow:Saving checkpoints for 1319 into /tmp/dummy_model2/model.ckpt.\n",
      "INFO:tensorflow:global_step/sec: 0.587934\n",
      "INFO:tensorflow:loss = 1.85181, step = 1401 (170.089 sec)\n",
      "INFO:tensorflow:global_step/sec: 0.59814\n",
      "INFO:tensorflow:loss = 2.29357, step = 1501 (167.182 sec)\n",
      "INFO:tensorflow:global_step/sec: 0.594173\n",
      "INFO:tensorflow:loss = 2.1917, step = 1601 (168.303 sec)\n",
      "INFO:tensorflow:Saving checkpoints for 1673 into /tmp/dummy_model2/model.ckpt.\n",
      "INFO:tensorflow:global_step/sec: 0.562481\n",
      "INFO:tensorflow:loss = 2.24296, step = 1701 (177.783 sec)\n",
      "INFO:tensorflow:global_step/sec: 0.581621\n",
      "INFO:tensorflow:loss = 1.76124, step = 1801 (171.934 sec)\n",
      "INFO:tensorflow:global_step/sec: 0.572523\n",
      "INFO:tensorflow:loss = 2.62318, step = 1901 (174.665 sec)\n",
      "INFO:tensorflow:global_step/sec: 0.564982\n",
      "INFO:tensorflow:loss = 2.17079, step = 2001 (176.997 sec)\n",
      "INFO:tensorflow:Saving checkpoints for 2015 into /tmp/dummy_model2/model.ckpt.\n",
      "INFO:tensorflow:global_step/sec: 0.563978\n",
      "INFO:tensorflow:loss = 2.04408, step = 2101 (177.312 sec)\n",
      "INFO:tensorflow:global_step/sec: 0.569285\n",
      "INFO:tensorflow:loss = 1.56291, step = 2201 (175.658 sec)\n",
      "INFO:tensorflow:global_step/sec: 0.547781\n",
      "INFO:tensorflow:loss = 1.88475, step = 2301 (182.556 sec)\n",
      "INFO:tensorflow:Saving checkpoints for 2353 into /tmp/dummy_model2/model.ckpt.\n",
      "INFO:tensorflow:global_step/sec: 0.561708\n",
      "INFO:tensorflow:loss = 2.13645, step = 2401 (178.029 sec)\n",
      "INFO:tensorflow:global_step/sec: 0.594675\n",
      "INFO:tensorflow:loss = 1.45205, step = 2501 (168.158 sec)\n",
      "INFO:tensorflow:global_step/sec: 0.575669\n",
      "INFO:tensorflow:loss = 1.98275, step = 2601 (173.712 sec)\n",
      "INFO:tensorflow:global_step/sec: 0.586134\n",
      "INFO:tensorflow:loss = 1.45993, step = 2701 (170.609 sec)\n",
      "INFO:tensorflow:Saving checkpoints for 2702 into /tmp/dummy_model2/model.ckpt.\n",
      "INFO:tensorflow:global_step/sec: 0.550463\n",
      "INFO:tensorflow:loss = 2.59446, step = 2801 (181.665 sec)\n",
      "INFO:tensorflow:global_step/sec: 0.57887\n",
      "INFO:tensorflow:loss = 1.4726, step = 2901 (172.750 sec)\n",
      "INFO:tensorflow:global_step/sec: 0.580236\n",
      "INFO:tensorflow:loss = 1.55404, step = 3001 (172.343 sec)\n",
      "INFO:tensorflow:Saving checkpoints for 3046 into /tmp/dummy_model2/model.ckpt.\n",
      "INFO:tensorflow:global_step/sec: 0.593361\n",
      "INFO:tensorflow:loss = 1.62986, step = 3101 (168.532 sec)\n",
      "INFO:tensorflow:global_step/sec: 0.596376\n",
      "INFO:tensorflow:loss = 1.82143, step = 3201 (167.680 sec)\n",
      "INFO:tensorflow:global_step/sec: 0.584421\n",
      "INFO:tensorflow:loss = 2.29842, step = 3301 (171.109 sec)\n",
      "INFO:tensorflow:Saving checkpoints for 3401 into /tmp/dummy_model2/model.ckpt.\n",
      "INFO:tensorflow:global_step/sec: 0.583561\n",
      "INFO:tensorflow:loss = 2.13489, step = 3401 (171.361 sec)\n",
      "INFO:tensorflow:global_step/sec: 0.583569\n",
      "INFO:tensorflow:loss = 2.05136, step = 3501 (171.360 sec)\n",
      "INFO:tensorflow:global_step/sec: 0.574305\n",
      "INFO:tensorflow:loss = 1.68331, step = 3601 (174.124 sec)\n",
      "INFO:tensorflow:global_step/sec: 0.609212\n",
      "INFO:tensorflow:loss = 2.63418, step = 3701 (164.146 sec)\n",
      "INFO:tensorflow:Saving checkpoints for 3755 into /tmp/dummy_model2/model.ckpt.\n",
      "INFO:tensorflow:global_step/sec: 0.592259\n",
      "INFO:tensorflow:loss = 2.20392, step = 3801 (168.845 sec)\n",
      "INFO:tensorflow:global_step/sec: 0.579925\n",
      "INFO:tensorflow:loss = 2.2196, step = 3901 (172.438 sec)\n",
      "INFO:tensorflow:global_step/sec: 0.567736\n",
      "INFO:tensorflow:loss = 1.7498, step = 4001 (176.136 sec)\n",
      "INFO:tensorflow:global_step/sec: 0.585227\n",
      "INFO:tensorflow:loss = 1.81126, step = 4101 (170.874 sec)\n",
      "INFO:tensorflow:Saving checkpoints for 4103 into /tmp/dummy_model2/model.ckpt.\n",
      "INFO:tensorflow:global_step/sec: 0.600593\n",
      "INFO:tensorflow:loss = 2.47186, step = 4201 (166.502 sec)\n",
      "INFO:tensorflow:global_step/sec: 0.634847\n",
      "INFO:tensorflow:loss = 1.99532, step = 4301 (157.518 sec)\n",
      "INFO:tensorflow:global_step/sec: 0.647983\n",
      "INFO:tensorflow:loss = 2.10923, step = 4401 (154.325 sec)\n",
      "INFO:tensorflow:Saving checkpoints for 4491 into /tmp/dummy_model2/model.ckpt.\n",
      "INFO:tensorflow:global_step/sec: 0.710671\n",
      "INFO:tensorflow:loss = 1.63184, step = 4501 (140.711 sec)\n",
      "INFO:tensorflow:global_step/sec: 0.711621\n",
      "INFO:tensorflow:loss = 2.65832, step = 4601 (140.525 sec)\n",
      "INFO:tensorflow:global_step/sec: 0.658326\n",
      "INFO:tensorflow:loss = 2.26417, step = 4701 (151.907 sec)\n",
      "INFO:tensorflow:global_step/sec: 0.658525\n",
      "INFO:tensorflow:loss = 2.29033, step = 4801 (151.850 sec)\n",
      "INFO:tensorflow:Saving checkpoints for 4893 into /tmp/dummy_model2/model.ckpt.\n",
      "INFO:tensorflow:global_step/sec: 0.631895\n",
      "INFO:tensorflow:loss = 1.8042, step = 4901 (158.252 sec)\n",
      "INFO:tensorflow:global_step/sec: 0.576614\n",
      "INFO:tensorflow:loss = 1.78513, step = 5001 (173.426 sec)\n",
      "INFO:tensorflow:global_step/sec: 0.606791\n",
      "INFO:tensorflow:loss = 2.57597, step = 5101 (164.809 sec)\n",
      "INFO:tensorflow:global_step/sec: 0.562497\n",
      "INFO:tensorflow:loss = 2.04115, step = 5201 (177.773 sec)\n",
      "INFO:tensorflow:Saving checkpoints for 5240 into /tmp/dummy_model2/model.ckpt.\n",
      "INFO:tensorflow:global_step/sec: 0.566443\n",
      "INFO:tensorflow:loss = 1.99791, step = 5301 (176.540 sec)\n",
      "INFO:tensorflow:global_step/sec: 0.569329\n",
      "INFO:tensorflow:loss = 1.59728, step = 5401 (175.646 sec)\n",
      "INFO:tensorflow:global_step/sec: 0.5574\n",
      "INFO:tensorflow:loss = 2.92273, step = 5501 (179.405 sec)\n",
      "INFO:tensorflow:Saving checkpoints for 5582 into /tmp/dummy_model2/model.ckpt.\n",
      "INFO:tensorflow:global_step/sec: 0.579696\n",
      "INFO:tensorflow:loss = 2.23485, step = 5601 (172.503 sec)\n",
      "INFO:tensorflow:global_step/sec: 0.559115\n",
      "INFO:tensorflow:loss = 2.32709, step = 5701 (178.855 sec)\n",
      "INFO:tensorflow:global_step/sec: 0.579578\n",
      "INFO:tensorflow:loss = 1.78397, step = 5801 (172.541 sec)\n",
      "INFO:tensorflow:global_step/sec: 0.573265\n",
      "INFO:tensorflow:loss = 1.59924, step = 5901 (174.438 sec)\n",
      "INFO:tensorflow:Saving checkpoints for 5924 into /tmp/dummy_model2/model.ckpt.\n",
      "INFO:tensorflow:global_step/sec: 0.586225\n",
      "INFO:tensorflow:loss = 2.52808, step = 6001 (170.582 sec)\n",
      "INFO:tensorflow:global_step/sec: 0.581656\n",
      "INFO:tensorflow:loss = 2.03028, step = 6101 (171.923 sec)\n",
      "INFO:tensorflow:global_step/sec: 0.585968\n",
      "INFO:tensorflow:loss = 2.03631, step = 6201 (170.658 sec)\n",
      "INFO:tensorflow:Saving checkpoints for 6277 into /tmp/dummy_model2/model.ckpt.\n",
      "INFO:tensorflow:global_step/sec: 0.573531\n",
      "INFO:tensorflow:loss = 1.63972, step = 6301 (174.358 sec)\n",
      "INFO:tensorflow:global_step/sec: 0.545846\n",
      "INFO:tensorflow:loss = 2.58379, step = 6401 (183.204 sec)\n",
      "INFO:tensorflow:global_step/sec: 0.548991\n",
      "INFO:tensorflow:loss = 2.26865, step = 6501 (182.152 sec)\n",
      "INFO:tensorflow:global_step/sec: 0.578531\n",
      "INFO:tensorflow:loss = 2.2521, step = 6601 (172.852 sec)\n",
      "INFO:tensorflow:Saving checkpoints for 6609 into /tmp/dummy_model2/model.ckpt.\n",
      "INFO:tensorflow:global_step/sec: 0.540129\n",
      "INFO:tensorflow:loss = 1.76417, step = 6701 (185.139 sec)\n",
      "INFO:tensorflow:global_step/sec: 0.547099\n",
      "INFO:tensorflow:loss = 1.46091, step = 6801 (182.783 sec)\n",
      "INFO:tensorflow:global_step/sec: 0.563151\n",
      "INFO:tensorflow:loss = 2.6833, step = 6901 (177.571 sec)\n",
      "INFO:tensorflow:Saving checkpoints for 6945 into /tmp/dummy_model2/model.ckpt.\n",
      "INFO:tensorflow:global_step/sec: 0.591199\n",
      "INFO:tensorflow:loss = 2.06642, step = 7001 (169.150 sec)\n",
      "INFO:tensorflow:global_step/sec: 0.583079\n",
      "INFO:tensorflow:loss = 2.00151, step = 7101 (171.503 sec)\n",
      "INFO:tensorflow:global_step/sec: 0.570804\n",
      "INFO:tensorflow:loss = 1.334, step = 7201 (175.190 sec)\n",
      "INFO:tensorflow:Saving checkpoints for 7298 into /tmp/dummy_model2/model.ckpt.\n",
      "INFO:tensorflow:global_step/sec: 0.603004\n",
      "INFO:tensorflow:loss = 2.73114, step = 7301 (165.837 sec)\n",
      "INFO:tensorflow:global_step/sec: 0.521783\n",
      "INFO:tensorflow:loss = 1.3267, step = 7401 (191.652 sec)\n",
      "INFO:tensorflow:global_step/sec: 0.540896\n",
      "INFO:tensorflow:loss = 2.2788, step = 7501 (184.880 sec)\n",
      "INFO:tensorflow:global_step/sec: 0.529283\n",
      "INFO:tensorflow:loss = 1.75601, step = 7601 (188.932 sec)\n",
      "INFO:tensorflow:Saving checkpoints for 7616 into /tmp/dummy_model2/model.ckpt.\n",
      "INFO:tensorflow:global_step/sec: 0.520503\n",
      "INFO:tensorflow:loss = 1.51281, step = 7701 (192.123 sec)\n",
      "INFO:tensorflow:global_step/sec: 0.502538\n",
      "INFO:tensorflow:loss = 2.92346, step = 7801 (198.990 sec)\n",
      "INFO:tensorflow:global_step/sec: 0.579172\n",
      "INFO:tensorflow:loss = 2.05702, step = 7901 (172.661 sec)\n",
      "INFO:tensorflow:Saving checkpoints for 7941 into /tmp/dummy_model2/model.ckpt.\n",
      "INFO:tensorflow:global_step/sec: 0.59003\n",
      "INFO:tensorflow:loss = 2.10695, step = 8001 (169.483 sec)\n",
      "INFO:tensorflow:global_step/sec: 0.570833\n",
      "INFO:tensorflow:loss = 1.32067, step = 8101 (175.182 sec)\n",
      "INFO:tensorflow:global_step/sec: 0.600891\n",
      "INFO:tensorflow:loss = 2.27219, step = 8201 (166.418 sec)\n",
      "INFO:tensorflow:Saving checkpoints for 8293 into /tmp/dummy_model2/model.ckpt.\n",
      "INFO:tensorflow:global_step/sec: 0.575892\n",
      "INFO:tensorflow:loss = 2.41089, step = 8301 (173.643 sec)\n",
      "INFO:tensorflow:global_step/sec: 0.601061\n",
      "INFO:tensorflow:loss = 2.17671, step = 8401 (166.374 sec)\n",
      "INFO:tensorflow:global_step/sec: 0.590877\n",
      "INFO:tensorflow:loss = 1.87144, step = 8501 (169.240 sec)\n",
      "INFO:tensorflow:global_step/sec: 0.629562\n",
      "INFO:tensorflow:loss = 1.54141, step = 8601 (158.841 sec)\n",
      "INFO:tensorflow:Saving checkpoints for 8657 into /tmp/dummy_model2/model.ckpt.\n",
      "INFO:tensorflow:global_step/sec: 0.63431\n",
      "INFO:tensorflow:loss = 2.67838, step = 8701 (157.652 sec)\n",
      "INFO:tensorflow:global_step/sec: 0.645322\n",
      "INFO:tensorflow:loss = 2.15846, step = 8801 (154.961 sec)\n",
      "INFO:tensorflow:global_step/sec: 0.607984\n",
      "INFO:tensorflow:loss = 1.96709, step = 8901 (164.478 sec)\n",
      "INFO:tensorflow:Saving checkpoints for 8998 into /tmp/dummy_model2/model.ckpt.\n",
      "INFO:tensorflow:global_step/sec: 0.452959\n",
      "INFO:tensorflow:loss = 1.66691, step = 9001 (220.770 sec)\n",
      "INFO:tensorflow:global_step/sec: 0.589685\n",
      "INFO:tensorflow:loss = 2.36689, step = 9101 (169.585 sec)\n",
      "INFO:tensorflow:global_step/sec: 0.608358\n",
      "INFO:tensorflow:loss = 2.34451, step = 9201 (164.384 sec)\n",
      "INFO:tensorflow:global_step/sec: 0.573488\n",
      "INFO:tensorflow:loss = 2.13402, step = 9301 (174.365 sec)\n",
      "INFO:tensorflow:Saving checkpoints for 9351 into /tmp/dummy_model2/model.ckpt.\n",
      "INFO:tensorflow:global_step/sec: 0.582611\n",
      "INFO:tensorflow:loss = 0.779934, step = 9401 (171.639 sec)\n",
      "INFO:tensorflow:global_step/sec: 0.579486\n",
      "INFO:tensorflow:loss = 1.58847, step = 9501 (172.566 sec)\n",
      "INFO:tensorflow:global_step/sec: 0.524933\n",
      "INFO:tensorflow:loss = 2.65857, step = 9601 (190.502 sec)\n",
      "INFO:tensorflow:Saving checkpoints for 9674 into /tmp/dummy_model2/model.ckpt.\n",
      "INFO:tensorflow:global_step/sec: 0.488427\n",
      "INFO:tensorflow:loss = 2.04576, step = 9701 (204.736 sec)\n",
      "INFO:tensorflow:global_step/sec: 0.625619\n",
      "INFO:tensorflow:loss = 1.96238, step = 9801 (159.843 sec)\n",
      "INFO:tensorflow:global_step/sec: 0.582897\n",
      "INFO:tensorflow:loss = 1.6265, step = 9901 (171.567 sec)\n",
      "INFO:tensorflow:Saving checkpoints for 10000 into /tmp/dummy_model2/model.ckpt.\n",
      "INFO:tensorflow:Loss for final step: 1.77283.\n"
     ]
    },
    {
     "data": {
      "text/plain": [
       "<tensorflow.python.estimator.estimator.Estimator at 0x11f9d5bd0>"
      ]
     },
     "execution_count": 13,
     "metadata": {},
     "output_type": "execute_result"
    }
   ],
   "source": [
    "classifier = tf.estimator.Estimator(\n",
    "model_fn=cnn_model_fn, model_dir=\"/tmp/dummy_model2\")\n",
    "\n",
    "\n",
    "# Train the model\n",
    "train_input_fn = tf.estimator.inputs.numpy_input_fn(\n",
    "  x={'x':x},\n",
    "  y=y,\n",
    "  batch_size=100,num_epochs=None,\n",
    "  shuffle=True)\n",
    "\n",
    "classifier.train(input_fn=train_input_fn,steps=10000)\n",
    "\n"
   ]
  },
  {
   "cell_type": "code",
   "execution_count": 14,
   "metadata": {
    "collapsed": false
   },
   "outputs": [
    {
     "name": "stdout",
     "output_type": "stream",
     "text": [
      "17368.049932\n"
     ]
    }
   ],
   "source": [
    "end=time.time()\n",
    "print end-start\n",
    "start=time.time()"
   ]
  },
  {
   "cell_type": "code",
   "execution_count": 15,
   "metadata": {
    "collapsed": false
   },
   "outputs": [
    {
     "name": "stdout",
     "output_type": "stream",
     "text": [
      "INFO:tensorflow:Starting evaluation at 2017-12-07-06:51:24\n",
      "INFO:tensorflow:Restoring parameters from /tmp/dummy_model2/model.ckpt-10000\n",
      "INFO:tensorflow:Finished evaluation at 2017-12-07-06:52:02\n",
      "INFO:tensorflow:Saving dict for global step 10000: accuracy = 0.253389, global_step = 10000, loss = 3.5207\n",
      "WARNING:tensorflow:Skipping summary for global_step, must be a float or np.float32.\n",
      "{'loss': 3.5206952, 'global_step': 10000, 'accuracy': 0.2533887}\n"
     ]
    }
   ],
   "source": [
    "\n",
    "# Evaluate the model and print results\n",
    "eval_input_fn = tf.estimator.inputs.numpy_input_fn(\n",
    "  x={\"x\": x},\n",
    "  y=y,\n",
    "  num_epochs=1,\n",
    "  shuffle=False)\n",
    "eval_results = classifier.evaluate(input_fn=eval_input_fn)\n",
    "print(eval_results)"
   ]
  },
  {
   "cell_type": "code",
   "execution_count": 16,
   "metadata": {
    "collapsed": false
   },
   "outputs": [
    {
     "name": "stdout",
     "output_type": "stream",
     "text": [
      "39.0795850754\n"
     ]
    }
   ],
   "source": [
    "end=time.time()\n",
    "print end-start"
   ]
  },
  {
   "cell_type": "code",
   "execution_count": 17,
   "metadata": {
    "collapsed": true
   },
   "outputs": [],
   "source": [
    "testdocuments = []\n",
    "testlabels=[]\n",
    "for label in test_df.subreddit:\n",
    "    testlabels.append(label)\n",
    "for doc in test_df.text:\n",
    "    unicode_string = nltk.word_tokenize(doc.decode('utf8'))\n",
    "    testdocuments.append(unicode_string)"
   ]
  },
  {
   "cell_type": "code",
   "execution_count": 18,
   "metadata": {
    "collapsed": false
   },
   "outputs": [
    {
     "name": "stdout",
     "output_type": "stream",
     "text": [
      "2345\n",
      "(2345, 40, 80)\n",
      "(2345, 40, 80, 1)\n"
     ]
    }
   ],
   "source": [
    "test_twod_doc_array=[]\n",
    "for doc in testdocuments:\n",
    "    word_array=[]\n",
    "    i=0\n",
    "    while(i<len(doc) ):\n",
    "        if doc[i] in model.wv.vocab:\n",
    "            word_array.append(list(model[doc[i]]))\n",
    "        i+=1\n",
    "    i=0\n",
    "    while (i<40):\n",
    "        word_array.append(np.zeros(80))\n",
    "        i+=1\n",
    "    \n",
    "    test_twod_doc_array.append(word_array[:40])\n",
    "\n",
    "test_twod_doc_array=np.array( test_twod_doc_array)\n",
    "print len(testdocuments)\n",
    "print test_twod_doc_array.shape\n",
    "testx=np.reshape(test_twod_doc_array,(test_twod_doc_array.shape[0],test_twod_doc_array.shape[1],test_twod_doc_array.shape[2],1))\n",
    "print testx.shape"
   ]
  },
  {
   "cell_type": "code",
   "execution_count": 19,
   "metadata": {
    "collapsed": false
   },
   "outputs": [
    {
     "name": "stdout",
     "output_type": "stream",
     "text": [
      "2345\n"
     ]
    }
   ],
   "source": [
    "test_y=[]\n",
    "for i in testlabels:\n",
    "    test_y.append(labellist.index(i))\n",
    "print len(test_y)\n",
    "test_y=np.array(test_y)\n",
    "testx=np.array(testx)"
   ]
  },
  {
   "cell_type": "code",
   "execution_count": 20,
   "metadata": {
    "collapsed": false
   },
   "outputs": [
    {
     "name": "stdout",
     "output_type": "stream",
     "text": [
      "(2345,)\n"
     ]
    }
   ],
   "source": [
    "print test_y.shape"
   ]
  },
  {
   "cell_type": "code",
   "execution_count": 21,
   "metadata": {
    "collapsed": false
   },
   "outputs": [
    {
     "name": "stdout",
     "output_type": "stream",
     "text": [
      "(2345, 40, 80, 1)\n"
     ]
    }
   ],
   "source": [
    "print testx.shape"
   ]
  },
  {
   "cell_type": "code",
   "execution_count": 22,
   "metadata": {
    "collapsed": false
   },
   "outputs": [
    {
     "name": "stdout",
     "output_type": "stream",
     "text": [
      "INFO:tensorflow:Starting evaluation at 2017-12-07-06:55:24\n",
      "INFO:tensorflow:Restoring parameters from /tmp/dummy_model2/model.ckpt-10000\n",
      "INFO:tensorflow:Finished evaluation at 2017-12-07-06:55:36\n",
      "INFO:tensorflow:Saving dict for global step 10000: accuracy = 0.252878, global_step = 10000, loss = 3.59217\n",
      "WARNING:tensorflow:Skipping summary for global_step, must be a float or np.float32.\n",
      "{'loss': 3.5921738, 'global_step': 10000, 'accuracy': 0.25287846}\n"
     ]
    }
   ],
   "source": [
    "# Evaluate the model and print results\n",
    "eval_input_fn = tf.estimator.inputs.numpy_input_fn(\n",
    "  x={\"x\": testx},\n",
    "  y=test_y,\n",
    "  num_epochs=1,\n",
    "  shuffle=False)\n",
    "eval_results = classifier.evaluate(input_fn=eval_input_fn)\n",
    "print(eval_results)"
   ]
  },
  {
   "cell_type": "code",
   "execution_count": null,
   "metadata": {
    "collapsed": true
   },
   "outputs": [],
   "source": []
  }
 ],
 "metadata": {
  "kernelspec": {
   "display_name": "Python [Root]",
   "language": "python",
   "name": "Python [Root]"
  },
  "language_info": {
   "codemirror_mode": {
    "name": "ipython",
    "version": 2
   },
   "file_extension": ".py",
   "mimetype": "text/x-python",
   "name": "python",
   "nbconvert_exporter": "python",
   "pygments_lexer": "ipython2",
   "version": "2.7.12"
  }
 },
 "nbformat": 4,
 "nbformat_minor": 0
}
